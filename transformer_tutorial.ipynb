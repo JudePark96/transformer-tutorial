{
 "cells": [
  {
   "cell_type": "code",
   "execution_count": 2,
   "metadata": {
    "ExecuteTime": {
     "end_time": "2020-03-14T16:06:44.794432Z",
     "start_time": "2020-03-14T16:06:44.790101Z"
    }
   },
   "outputs": [
    {
     "name": "stdout",
     "output_type": "stream",
     "text": [
      "cuda is True\n"
     ]
    }
   ],
   "source": [
    "import math\n",
    "import torch\n",
    "import torch.nn as nn\n",
    "import torch.nn.functional as F\n",
    "\n",
    "\n",
    "print('cuda is', torch.cuda.is_available())"
   ]
  },
  {
   "cell_type": "code",
   "execution_count": 3,
   "metadata": {
    "ExecuteTime": {
     "end_time": "2020-03-14T16:07:08.514919Z",
     "start_time": "2020-03-14T16:07:08.501867Z"
    }
   },
   "outputs": [],
   "source": [
    "class TransformerModel(nn.Module):\n",
    "\n",
    "    def __init__(self, ntoken, ninp, nhead, nhid, nlayers, dropout=0.5):\n",
    "        super(TransformerModel, self).__init__()\n",
    "        from torch.nn import TransformerEncoder, TransformerEncoderLayer\n",
    "        self.model_type = 'Transformer'\n",
    "        self.src_mask = None\n",
    "        self.pos_encoder = PositionalEncoding(ninp, dropout)\n",
    "        encoder_layers = TransformerEncoderLayer(ninp, nhead, nhid, dropout)\n",
    "        self.transformer_encoder = TransformerEncoder(encoder_layers, nlayers)\n",
    "        self.encoder = nn.Embedding(ntoken, ninp)\n",
    "        self.ninp = ninp\n",
    "        self.decoder = nn.Linear(ninp, ntoken)\n",
    "\n",
    "        self.init_weights()\n",
    "\n",
    "    def _generate_square_subsequent_mask(self, sz):\n",
    "        mask = (torch.triu(torch.ones(sz, sz)) == 1).transpose(0, 1)\n",
    "        mask = mask.float().masked_fill(mask == 0, float('-inf')).masked_fill(mask == 1, float(0.0))\n",
    "        return mask\n",
    "\n",
    "    def init_weights(self):\n",
    "        initrange = 0.1\n",
    "        self.encoder.weight.data.uniform_(-initrange, initrange)\n",
    "        self.decoder.bias.data.zero_()\n",
    "        self.decoder.weight.data.uniform_(-initrange, initrange)\n",
    "\n",
    "    def forward(self, src):\n",
    "        if self.src_mask is None or self.src_mask.size(0) != len(src):\n",
    "            device = src.device\n",
    "            mask = self._generate_square_subsequent_mask(len(src)).to(device)\n",
    "            self.src_mask = mask\n",
    "\n",
    "        src = self.encoder(src) * math.sqrt(self.ninp)\n",
    "        src = self.pos_encoder(src)\n",
    "        output = self.transformer_encoder(src, self.src_mask)\n",
    "        output = self.decoder(output)\n",
    "        return output"
   ]
  },
  {
   "cell_type": "code",
   "execution_count": 6,
   "metadata": {
    "ExecuteTime": {
     "end_time": "2020-03-14T16:07:30.851669Z",
     "start_time": "2020-03-14T16:07:30.842920Z"
    }
   },
   "outputs": [],
   "source": [
    "class PositionalEncoding(nn.Module):\n",
    "    def __init__(self, d_model, dropout=0.1, max_len=5000):\n",
    "        super(PositionalEncoding, self).__init__()\n",
    "        self.dropout = nn.Dropout(p=dropout)\n",
    "\n",
    "        pe = torch.zeros(max_len, d_model)\n",
    "        position = torch.arange(0, max_len, dtype=torch.float).unsqueeze(1)\n",
    "        div_term = torch.exp(torch.arange(0, d_model, 2).float() * (-math.log(10000.0) / d_model))\n",
    "        pe[:, 0::2] = torch.sin(position * div_term)\n",
    "        pe[:, 1::2] = torch.cos(position * div_term)\n",
    "        pe = pe.unsqueeze(0).transpose(0, 1)\n",
    "        self.register_buffer('pe', pe)\n",
    "\n",
    "    def forward(self, x):\n",
    "        x = x + self.pe[:x.size(0), :]\n",
    "        return self.dropout(x)"
   ]
  },
  {
   "cell_type": "code",
   "execution_count": 8,
   "metadata": {
    "ExecuteTime": {
     "end_time": "2020-03-14T16:08:37.830195Z",
     "start_time": "2020-03-14T16:08:05.826625Z"
    }
   },
   "outputs": [
    {
     "name": "stdout",
     "output_type": "stream",
     "text": [
      "downloading wikitext-2-v1.zip\n"
     ]
    },
    {
     "name": "stderr",
     "output_type": "stream",
     "text": [
      "wikitext-2-v1.zip: 100%|██████████| 4.48M/4.48M [00:26<00:00, 168kB/s] \n"
     ]
    },
    {
     "name": "stdout",
     "output_type": "stream",
     "text": [
      "extracting\n"
     ]
    }
   ],
   "source": [
    "import torchtext\n",
    "from torchtext.data.utils import get_tokenizer\n",
    "TEXT = torchtext.data.Field(tokenize=get_tokenizer(\"basic_english\"),\n",
    "                            init_token='<sos>',\n",
    "                            eos_token='<eos>',\n",
    "                            lower=True)\n",
    "train_txt, val_txt, test_txt = torchtext.datasets.WikiText2.splits(TEXT)\n",
    "TEXT.build_vocab(train_txt)\n",
    "device = torch.device(\"cuda\" if torch.cuda.is_available() else \"cpu\")\n",
    "\n",
    "def batchify(data, bsz):\n",
    "    data = TEXT.numericalize([data.examples[0].text])\n",
    "    # Divide the dataset into bsz parts.\n",
    "    nbatch = data.size(0) // bsz\n",
    "    # Trim off any extra elements that wouldn't cleanly fit (remainders).\n",
    "    data = data.narrow(0, 0, nbatch * bsz)\n",
    "    # Evenly divide the data across the bsz batches.\n",
    "    data = data.view(bsz, -1).t().contiguous()\n",
    "    return data.to(device)\n",
    "\n",
    "batch_size = 20\n",
    "eval_batch_size = 10\n",
    "train_data = batchify(train_txt, batch_size)\n",
    "val_data = batchify(val_txt, eval_batch_size)\n",
    "test_data = batchify(test_txt, eval_batch_size)"
   ]
  },
  {
   "cell_type": "code",
   "execution_count": 26,
   "metadata": {
    "ExecuteTime": {
     "end_time": "2020-03-14T16:20:09.587651Z",
     "start_time": "2020-03-14T16:20:09.578006Z"
    }
   },
   "outputs": [
    {
     "name": "stdout",
     "output_type": "stream",
     "text": [
      "<eos> @ settlement heavy of , , lined the she <unk> of . interception the dried . , would his\n",
      "\n",
      "= 1 was rains ireland and starting with hairy had found the <unk> to possibility heads other which receive gift\n",
      "\n",
      "valkyria rebounds rapid over . truely their lead <unk> recently at year sharif take of as symptoms usually an for\n",
      "\n",
      "chronicles , in the since and drive were leaves left the , , a carpenter ear may happen index seizing\n",
      "\n",
      "iii 3 particular island the son at built are the site he the 56 becoming ornaments include every @-@ on\n",
      "\n",
      "= @ , , 1960s <unk> their during crowded <unk> . was cambridge – a . <unk> few linked telling\n",
      "\n",
      "<eos> . there causing with . 44 the and and it accepted <unk> 7 series due movements years annual detail\n",
      "\n",
      "<eos> @ was minor the robyn @-@ roman <unk> was is as , lead regular to , , fixed it\n",
      "\n",
      "senjō 8 an flooding increase had yard occupation arranged working also a became into . its defecation most royalty is\n",
      "\n",
      "no assists influx . in three line of . as linked volunteer the the <eos> flightlessness , recently , no\n",
      "\n"
     ]
    }
   ],
   "source": [
    "for seq in train_data[:10]:\n",
    "    print(' '.join([TEXT.vocab.itos[char] for char in seq]) + '\\n')\n",
    "        "
   ]
  },
  {
   "cell_type": "code",
   "execution_count": 11,
   "metadata": {
    "ExecuteTime": {
     "end_time": "2020-03-14T16:08:58.640305Z",
     "start_time": "2020-03-14T16:08:58.635996Z"
    }
   },
   "outputs": [],
   "source": [
    "bptt = 35\n",
    "def get_batch(source, i):\n",
    "    seq_len = min(bptt, len(source) - 1 - i)\n",
    "    data = source[i:i+seq_len]\n",
    "    target = source[i+1:i+1+seq_len].view(-1)\n",
    "    return data, target"
   ]
  },
  {
   "cell_type": "code",
   "execution_count": 12,
   "metadata": {
    "ExecuteTime": {
     "end_time": "2020-03-14T16:09:13.983726Z",
     "start_time": "2020-03-14T16:09:13.816808Z"
    }
   },
   "outputs": [],
   "source": [
    "ntokens = len(TEXT.vocab.stoi) # the size of vocabulary\n",
    "emsize = 200 # embedding dimension\n",
    "nhid = 200 # the dimension of the feedforward network model in nn.TransformerEncoder\n",
    "nlayers = 2 # the number of nn.TransformerEncoderLayer in nn.TransformerEncoder\n",
    "nhead = 2 # the number of heads in the multiheadattention models\n",
    "dropout = 0.2 # the dropout value\n",
    "model = TransformerModel(ntokens, emsize, nhead, nhid, nlayers, dropout).to('cuda:0')"
   ]
  },
  {
   "cell_type": "code",
   "execution_count": 13,
   "metadata": {
    "ExecuteTime": {
     "end_time": "2020-03-14T16:09:24.127128Z",
     "start_time": "2020-03-14T16:09:24.112513Z"
    }
   },
   "outputs": [],
   "source": [
    "criterion = nn.CrossEntropyLoss()\n",
    "lr = 5.0 # learning rate\n",
    "optimizer = torch.optim.SGD(model.parameters(), lr=lr)\n",
    "scheduler = torch.optim.lr_scheduler.StepLR(optimizer, 1.0, gamma=0.95)\n",
    "\n",
    "import time\n",
    "def train():\n",
    "    model.train() # Turn on the train mode\n",
    "    total_loss = 0.\n",
    "    start_time = time.time()\n",
    "    ntokens = len(TEXT.vocab.stoi)\n",
    "    for batch, i in enumerate(range(0, train_data.size(0) - 1, bptt)):\n",
    "        data, targets = get_batch(train_data, i)\n",
    "        print('batch data shape', data.shape, target.shape)\n",
    "        optimizer.zero_grad()\n",
    "        output = model(data)\n",
    "        loss = criterion(output.view(-1, ntokens), targets)\n",
    "        loss.backward()\n",
    "        torch.nn.utils.clip_grad_norm_(model.parameters(), 0.5)\n",
    "        optimizer.step()\n",
    "\n",
    "        total_loss += loss.item()\n",
    "        log_interval = 200\n",
    "        if batch % log_interval == 0 and batch > 0:\n",
    "            cur_loss = total_loss / log_interval\n",
    "            elapsed = time.time() - start_time\n",
    "            print('| epoch {:3d} | {:5d}/{:5d} batches | '\n",
    "                  'lr {:02.2f} | ms/batch {:5.2f} | '\n",
    "                  'loss {:5.2f} | ppl {:8.2f}'.format(\n",
    "                    epoch, batch, len(train_data) // bptt, scheduler.get_lr()[0],\n",
    "                    elapsed * 1000 / log_interval,\n",
    "                    cur_loss, math.exp(cur_loss)))\n",
    "            total_loss = 0\n",
    "            start_time = time.time()\n",
    "\n",
    "def evaluate(eval_model, data_source):\n",
    "    eval_model.eval() # Turn on the evaluation mode\n",
    "    total_loss = 0.\n",
    "    ntokens = len(TEXT.vocab.stoi)\n",
    "    with torch.no_grad():\n",
    "        for i in range(0, data_source.size(0) - 1, bptt):\n",
    "            data, targets = get_batch(data_source, i)\n",
    "            output = eval_model(data)\n",
    "            output_flat = output.view(-1, ntokens)\n",
    "            total_loss += len(data) * criterion(output_flat, targets).item()\n",
    "    return total_loss / (len(data_source) - 1)"
   ]
  },
  {
   "cell_type": "code",
   "execution_count": 15,
   "metadata": {
    "ExecuteTime": {
     "end_time": "2020-03-14T16:13:08.369225Z",
     "start_time": "2020-03-14T16:10:36.007781Z"
    }
   },
   "outputs": [
    {
     "name": "stdout",
     "output_type": "stream",
     "text": [
      "| epoch   1 |   200/ 2981 batches | lr 5.00 | ms/batch 16.59 | loss  5.81 | ppl   334.19\n",
      "| epoch   1 |   400/ 2981 batches | lr 5.00 | ms/batch 16.38 | loss  5.79 | ppl   327.74\n",
      "| epoch   1 |   600/ 2981 batches | lr 5.00 | ms/batch 16.36 | loss  5.62 | ppl   276.58\n",
      "| epoch   1 |   800/ 2981 batches | lr 5.00 | ms/batch 16.37 | loss  5.66 | ppl   286.49\n",
      "| epoch   1 |  1000/ 2981 batches | lr 5.00 | ms/batch 16.37 | loss  5.60 | ppl   271.44\n",
      "| epoch   1 |  1200/ 2981 batches | lr 5.00 | ms/batch 16.41 | loss  5.63 | ppl   278.97\n",
      "| epoch   1 |  1400/ 2981 batches | lr 5.00 | ms/batch 16.40 | loss  5.64 | ppl   281.80\n",
      "| epoch   1 |  1600/ 2981 batches | lr 5.00 | ms/batch 16.40 | loss  5.67 | ppl   291.34\n",
      "| epoch   1 |  1800/ 2981 batches | lr 5.00 | ms/batch 16.40 | loss  5.61 | ppl   272.05\n",
      "| epoch   1 |  2000/ 2981 batches | lr 5.00 | ms/batch 16.40 | loss  5.63 | ppl   279.78\n",
      "| epoch   1 |  2200/ 2981 batches | lr 5.00 | ms/batch 16.40 | loss  5.53 | ppl   251.69\n",
      "| epoch   1 |  2400/ 2981 batches | lr 5.00 | ms/batch 16.40 | loss  5.60 | ppl   269.85\n",
      "| epoch   1 |  2600/ 2981 batches | lr 5.00 | ms/batch 16.40 | loss  5.60 | ppl   270.56\n",
      "| epoch   1 |  2800/ 2981 batches | lr 5.00 | ms/batch 16.41 | loss  5.52 | ppl   250.83\n",
      "-----------------------------------------------------------------------------------------\n",
      "| end of epoch   1 | time: 50.69s | valid loss  5.59 | valid ppl   268.95\n",
      "-----------------------------------------------------------------------------------------\n",
      "| epoch   2 |   200/ 2981 batches | lr 4.51 | ms/batch 16.49 | loss  5.57 | ppl   262.67\n",
      "| epoch   2 |   400/ 2981 batches | lr 4.51 | ms/batch 16.41 | loss  5.58 | ppl   263.93\n",
      "| epoch   2 |   600/ 2981 batches | lr 4.51 | ms/batch 16.41 | loss  5.39 | ppl   218.57\n",
      "| epoch   2 |   800/ 2981 batches | lr 4.51 | ms/batch 16.41 | loss  5.45 | ppl   231.91\n",
      "| epoch   2 |  1000/ 2981 batches | lr 4.51 | ms/batch 16.40 | loss  5.40 | ppl   220.99\n",
      "| epoch   2 |  1200/ 2981 batches | lr 4.51 | ms/batch 16.41 | loss  5.44 | ppl   229.36\n",
      "| epoch   2 |  1400/ 2981 batches | lr 4.51 | ms/batch 16.40 | loss  5.46 | ppl   235.01\n",
      "| epoch   2 |  1600/ 2981 batches | lr 4.51 | ms/batch 16.40 | loss  5.50 | ppl   243.77\n",
      "| epoch   2 |  1800/ 2981 batches | lr 4.51 | ms/batch 16.41 | loss  5.43 | ppl   228.87\n",
      "| epoch   2 |  2000/ 2981 batches | lr 4.51 | ms/batch 16.41 | loss  5.47 | ppl   237.71\n",
      "| epoch   2 |  2200/ 2981 batches | lr 4.51 | ms/batch 16.40 | loss  5.36 | ppl   212.67\n",
      "| epoch   2 |  2400/ 2981 batches | lr 4.51 | ms/batch 16.40 | loss  5.43 | ppl   227.79\n",
      "| epoch   2 |  2600/ 2981 batches | lr 4.51 | ms/batch 16.40 | loss  5.44 | ppl   230.00\n",
      "| epoch   2 |  2800/ 2981 batches | lr 4.51 | ms/batch 16.46 | loss  5.37 | ppl   214.47\n",
      "-----------------------------------------------------------------------------------------\n",
      "| end of epoch   2 | time: 50.74s | valid loss  5.50 | valid ppl   245.58\n",
      "-----------------------------------------------------------------------------------------\n",
      "| epoch   3 |   200/ 2981 batches | lr 4.29 | ms/batch 16.57 | loss  5.41 | ppl   223.61\n",
      "| epoch   3 |   400/ 2981 batches | lr 4.29 | ms/batch 16.48 | loss  5.43 | ppl   227.22\n",
      "| epoch   3 |   600/ 2981 batches | lr 4.29 | ms/batch 16.48 | loss  5.24 | ppl   189.02\n",
      "| epoch   3 |   800/ 2981 batches | lr 4.29 | ms/batch 16.48 | loss  5.29 | ppl   199.12\n",
      "| epoch   3 |  1000/ 2981 batches | lr 4.29 | ms/batch 16.48 | loss  5.26 | ppl   192.53\n",
      "| epoch   3 |  1200/ 2981 batches | lr 4.29 | ms/batch 16.48 | loss  5.30 | ppl   199.95\n",
      "| epoch   3 |  1400/ 2981 batches | lr 4.29 | ms/batch 16.47 | loss  5.34 | ppl   207.73\n",
      "| epoch   3 |  1600/ 2981 batches | lr 4.29 | ms/batch 16.48 | loss  5.36 | ppl   212.80\n",
      "| epoch   3 |  1800/ 2981 batches | lr 4.29 | ms/batch 16.47 | loss  5.30 | ppl   200.25\n",
      "| epoch   3 |  2000/ 2981 batches | lr 4.29 | ms/batch 16.47 | loss  5.32 | ppl   203.91\n",
      "| epoch   3 |  2200/ 2981 batches | lr 4.29 | ms/batch 16.47 | loss  5.20 | ppl   182.03\n",
      "| epoch   3 |  2400/ 2981 batches | lr 4.29 | ms/batch 16.47 | loss  5.29 | ppl   198.32\n",
      "| epoch   3 |  2600/ 2981 batches | lr 4.29 | ms/batch 16.46 | loss  5.31 | ppl   202.18\n",
      "| epoch   3 |  2800/ 2981 batches | lr 4.29 | ms/batch 16.47 | loss  5.25 | ppl   189.89\n",
      "-----------------------------------------------------------------------------------------\n",
      "| end of epoch   3 | time: 50.92s | valid loss  5.50 | valid ppl   245.47\n",
      "-----------------------------------------------------------------------------------------\n"
     ]
    }
   ],
   "source": [
    "best_val_loss = float(\"inf\")\n",
    "epochs = 3 # The number of epochs\n",
    "best_model = None\n",
    "\n",
    "for epoch in range(1, epochs + 1):\n",
    "    epoch_start_time = time.time()\n",
    "    train()\n",
    "    val_loss = evaluate(model, val_data)\n",
    "    print('-' * 89)\n",
    "    print('| end of epoch {:3d} | time: {:5.2f}s | valid loss {:5.2f} | '\n",
    "          'valid ppl {:8.2f}'.format(epoch, (time.time() - epoch_start_time),\n",
    "                                     val_loss, math.exp(val_loss)))\n",
    "    print('-' * 89)\n",
    "\n",
    "    if val_loss < best_val_loss:\n",
    "        best_val_loss = val_loss\n",
    "        best_model = model\n",
    "\n",
    "    scheduler.step()"
   ]
  },
  {
   "cell_type": "code",
   "execution_count": 16,
   "metadata": {
    "ExecuteTime": {
     "end_time": "2020-03-14T16:15:52.303658Z",
     "start_time": "2020-03-14T16:15:50.232189Z"
    }
   },
   "outputs": [
    {
     "name": "stdout",
     "output_type": "stream",
     "text": [
      "=========================================================================================\n",
      "| End of training | test loss  5.41 | test ppl   224.43\n",
      "=========================================================================================\n"
     ]
    }
   ],
   "source": [
    "test_loss = evaluate(best_model, test_data)\n",
    "print('=' * 89)\n",
    "print('| End of training | test loss {:5.2f} | test ppl {:8.2f}'.format(\n",
    "    test_loss, math.exp(test_loss)))\n",
    "print('=' * 89)"
   ]
  },
  {
   "cell_type": "code",
   "execution_count": null,
   "metadata": {},
   "outputs": [],
   "source": []
  }
 ],
 "metadata": {
  "kernelspec": {
   "display_name": "Python 3",
   "language": "python",
   "name": "python3"
  },
  "language_info": {
   "codemirror_mode": {
    "name": "ipython",
    "version": 3
   },
   "file_extension": ".py",
   "mimetype": "text/x-python",
   "name": "python",
   "nbconvert_exporter": "python",
   "pygments_lexer": "ipython3",
   "version": "3.7.6"
  },
  "toc": {
   "base_numbering": 1,
   "nav_menu": {},
   "number_sections": false,
   "sideBar": true,
   "skip_h1_title": false,
   "title_cell": "Table of Contents",
   "title_sidebar": "Contents",
   "toc_cell": false,
   "toc_position": {},
   "toc_section_display": true,
   "toc_window_display": false
  }
 },
 "nbformat": 4,
 "nbformat_minor": 2
}
